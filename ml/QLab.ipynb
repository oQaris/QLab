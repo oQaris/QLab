{
 "cells": [
  {
   "cell_type": "code",
   "execution_count": 1,
   "id": "ff119053",
   "metadata": {},
   "outputs": [],
   "source": [
    "import numpy as np\n",
    "import pandas as pd\n",
    "from numpy import sqrt \n",
    "import random\n",
    "from tqdm.notebook import tqdm\n",
    "from sklearn.model_selection import train_test_split\n",
    "from sklearn.preprocessing import StandardScaler\n",
    "\n",
    "import torch\n",
    "import torch.nn as nn\n",
    "from torch.utils.data import DataLoader\n",
    "from torch.utils.data import TensorDataset\n",
    "from torch.utils.data import Dataset\n",
    "\n",
    "import seaborn as sns\n",
    "import matplotlib.pyplot as plt\n",
    "from IPython.display import clear_output"
   ]
  },
  {
   "cell_type": "code",
   "execution_count": 2,
   "id": "55d1608b",
   "metadata": {},
   "outputs": [],
   "source": [
    "x = pd.read_csv(\"C:/Users/oQaris/Desktop/QLab/trainData/all.csv\")\n",
    "y = x['our_gp']\n",
    "del x['our_gp']"
   ]
  },
  {
   "cell_type": "code",
   "execution_count": 3,
   "id": "ddbca4f7",
   "metadata": {},
   "outputs": [
    {
     "data": {
      "text/plain": [
       "lvl1      0.000000\n",
       "lvl2      0.000000\n",
       "lvl3      0.000000\n",
       "lvl4      0.000000\n",
       "lvl5      0.000000\n",
       "lvl6      0.000000\n",
       "lvl7      1.000000\n",
       "lvl8      0.000000\n",
       "lvl9      0.000000\n",
       "lvl10     0.000000\n",
       "p0_e      0.235669\n",
       "p0_a      0.178344\n",
       "p0_r      0.033263\n",
       "p0_s      0.000708\n",
       "p0_gc     0.847648\n",
       "p0_gp     0.214447\n",
       "vr0       0.171267\n",
       "gc0       4.826897\n",
       "p0_opp    1.000000\n",
       "p0_our    0.000000\n",
       "p1_e      0.287033\n",
       "p1_a      0.212725\n",
       "p1_r      0.037882\n",
       "p1_s      0.014085\n",
       "p1_gc    -0.659423\n",
       "p1_gp    -0.090885\n",
       "vr1       0.220010\n",
       "gc1      -0.372043\n",
       "p1_opp    0.000000\n",
       "p1_our    1.000000\n",
       "p2_e      0.250388\n",
       "p2_a      0.202748\n",
       "p2_r      0.041214\n",
       "p2_s      0.003324\n",
       "p2_gc     0.655856\n",
       "p2_gp     0.203764\n",
       "vr2       0.200753\n",
       "gc2       0.280091\n",
       "p2_opp    1.000000\n",
       "p2_our    0.000000\n",
       "p3_e      0.269981\n",
       "p3_a      0.204948\n",
       "p3_r      0.035607\n",
       "p3_s      0.012994\n",
       "p3_gc     1.781590\n",
       "p3_gp     0.170647\n",
       "vr3       0.201671\n",
       "gc3       2.806248\n",
       "p3_opp    0.000000\n",
       "p3_our    1.000000\n",
       "Name: 0, dtype: float64"
      ]
     },
     "execution_count": 3,
     "metadata": {},
     "output_type": "execute_result"
    }
   ],
   "source": [
    "x.loc[0]"
   ]
  },
  {
   "cell_type": "code",
   "execution_count": 4,
   "id": "fc735c00",
   "metadata": {
    "scrolled": true
   },
   "outputs": [
    {
     "data": {
      "text/plain": [
       "0         1.646007\n",
       "1         0.036192\n",
       "2         0.082518\n",
       "3         0.082518\n",
       "4        -0.056459\n",
       "            ...   \n",
       "181403   -0.010133\n",
       "181404   -0.102785\n",
       "181405   -0.010133\n",
       "181406   -0.334413\n",
       "181407    0.267820\n",
       "Name: our_gp, Length: 181408, dtype: float64"
      ]
     },
     "execution_count": 4,
     "metadata": {},
     "output_type": "execute_result"
    }
   ],
   "source": [
    "y"
   ]
  },
  {
   "cell_type": "code",
   "execution_count": 5,
   "id": "b278da71",
   "metadata": {},
   "outputs": [
    {
     "data": {
      "text/plain": [
       "((145126, 50), (145126,))"
      ]
     },
     "execution_count": 5,
     "metadata": {},
     "output_type": "execute_result"
    }
   ],
   "source": [
    "x_train, x_test, y_train, y_test = train_test_split(x, y, test_size=0.20)\n",
    "x_train.shape, y_train.shape"
   ]
  },
  {
   "cell_type": "markdown",
   "id": "94df6a98",
   "metadata": {},
   "source": [
    "**Нейронка**"
   ]
  },
  {
   "cell_type": "code",
   "execution_count": 6,
   "id": "592c42ba",
   "metadata": {},
   "outputs": [
    {
     "data": {
      "text/plain": [
       "'cuda'"
      ]
     },
     "execution_count": 6,
     "metadata": {},
     "output_type": "execute_result"
    }
   ],
   "source": [
    "device=\"cuda\" if torch.cuda.is_available() else \"cpu\"\n",
    "device"
   ]
  },
  {
   "cell_type": "code",
   "execution_count": 7,
   "id": "d20f972c",
   "metadata": {},
   "outputs": [
    {
     "data": {
      "text/plain": [
       "(50, 99)"
      ]
     },
     "execution_count": 7,
     "metadata": {},
     "output_type": "execute_result"
    }
   ],
   "source": [
    "# Размерность нейросети\n",
    "n_input = x.loc[0].size\n",
    "n_hiden = n_input*2-1\n",
    "n_input, n_hiden"
   ]
  },
  {
   "cell_type": "code",
   "execution_count": 8,
   "id": "2d3aa299",
   "metadata": {},
   "outputs": [],
   "source": [
    "class Net(nn.Module):\n",
    "    def __init__(self):\n",
    "        super(Net,self).__init__()\n",
    "        self.cnn = nn.Sequential(\n",
    "            nn.Linear(n_input, n_hiden),\n",
    "            nn.ReLU(),\n",
    "            nn.Linear(n_hiden, n_hiden),\n",
    "            nn.ReLU(),\n",
    "            nn.Linear(n_hiden, n_hiden),\n",
    "            nn.ReLU(),\n",
    "            nn.Linear(n_hiden, 1)\n",
    "        )\n",
    "\n",
    "    def init_optimizer(self, lr=3e-3):\n",
    "        self.opt = torch.optim.Adam(self.parameters(), lr=lr)\n",
    "\n",
    "    def forward(self, x):\n",
    "        return self.cnn(x)\n",
    "      \n",
    "\n",
    "loss_fn = torch.nn.L1Loss() #reduction='sum'"
   ]
  },
  {
   "cell_type": "code",
   "execution_count": 9,
   "id": "6fef1df1",
   "metadata": {},
   "outputs": [
    {
     "data": {
      "text/plain": [
       "array([-0.04420226, -0.16221741,  1.58078046, -0.44077837, -0.42424299,\n",
       "       -0.57756775, -0.34248979, -0.11493108, -0.05438644, -0.0168105 ,\n",
       "        0.10794612,  0.39029459, -0.04221868,  0.38407169,  0.91382897,\n",
       "        0.20672307,  0.3158226 , -0.49100901, -1.05428041,  1.05428041,\n",
       "       -0.5326174 ,  0.08108138,  0.11948902, -1.11528653,  0.0852498 ,\n",
       "        0.07317222, -0.66980255,  0.22438511,  0.9848589 , -0.9848589 ,\n",
       "        1.15168812,  0.602564  , -0.35198036,  1.80916521,  0.68512458,\n",
       "       -0.31698592,  0.60310146,  0.92313521,  1.40738569, -0.60436921,\n",
       "        1.65029613,  1.84301181,  1.35869224,  1.55622998,  2.13343971,\n",
       "        1.41707371,  1.87966703,  1.01982412, -0.36598836,  2.72871872])"
      ]
     },
     "execution_count": 9,
     "metadata": {},
     "output_type": "execute_result"
    }
   ],
   "source": [
    "# Нормализация\n",
    "sc = StandardScaler()\n",
    "#sc.fit(x) надо ли искать среднее и дисперсию по всему набору?\n",
    "x_train = sc.fit_transform(x_train)\n",
    "x_test  = sc.transform(x_test)\n",
    "\n",
    "x_train[1]"
   ]
  },
  {
   "cell_type": "code",
   "execution_count": 10,
   "id": "d249d8d1",
   "metadata": {},
   "outputs": [],
   "source": [
    "# Создаём датасеты\n",
    "batch_size = 100\n",
    "\n",
    "train_dataset = TensorDataset(torch.tensor(np.array(x_train)).float(), torch.tensor(np.array(y_train)).float())\n",
    "test_dataset  = TensorDataset(torch.tensor(np.array(x_test)).float(), torch.tensor(np.array(y_test)).float())\n",
    "\n",
    "train_dl = DataLoader(train_dataset, batch_size=batch_size, shuffle=True)\n",
    "test_dl  = DataLoader(test_dataset, batch_size=batch_size)"
   ]
  },
  {
   "cell_type": "code",
   "execution_count": 11,
   "id": "7e5cb4de",
   "metadata": {
    "scrolled": true
   },
   "outputs": [
    {
     "data": {
      "image/png": "[encoded data removed]",
      "text/plain": [
       "<Figure size 720x504 with 1 Axes>"
      ]
     },
     "metadata": {},
     "output_type": "display_data"
    }
   ],
   "source": [
    "# Обучаем\n",
    "net = Net().to(device)\n",
    "net.init_optimizer()\n",
    "\n",
    "epochs = 50\n",
    "train_losses = []\n",
    "test_losses  = []\n",
    "\n",
    "for eph in tqdm(range(epochs)):\n",
    "    n = 0\n",
    "    train_loss = 0\n",
    "    test_loss = 0\n",
    "    \n",
    "    for x, y in train_dl:\n",
    "        x = x.to(device)\n",
    "        y = y.to(device)\n",
    "        \n",
    "        # обнуляем градиент\n",
    "        net.opt.zero_grad()\n",
    "        # предсказываем\n",
    "        pred = net.forward(x)\n",
    "        # считаем ошибку\n",
    "        loss = loss_fn(pred, y)\n",
    "        loss.backward()\n",
    "        net.opt.step()\n",
    "        train_loss += loss\n",
    "        \n",
    "    train_losses.append(train_loss.detach().cpu() / len(x_train))\n",
    "        \n",
    "    for x, y in test_dl:\n",
    "        x = x.to(device)\n",
    "        y = y.to(device)\n",
    "        pred = net.forward(x)\n",
    "        loss = loss_fn(pred, y)\n",
    "        test_loss += loss\n",
    "        \n",
    "    test_losses.append(test_loss.detach().cpu() / len(x_test))\n",
    "    \n",
    "    # Выводим график\n",
    "    clear_output()\n",
    "    sns.set(rc={'figure.figsize':(10,7)})\n",
    "    sns.lineplot(x=np.arange(0,len(train_losses)),y=np.array(train_losses),label='train')\n",
    "    sns.lineplot(x=np.arange(0,len(test_losses)),y=np.array(test_losses),label='test')\n",
    "    plt.show()"
   ]
  },
  {
   "cell_type": "code",
   "execution_count": 12,
   "id": "7a1a7a52",
   "metadata": {},
   "outputs": [
    {
     "name": "stderr",
     "output_type": "stream",
     "text": [
      "C:\\Users\\oQaris\\AppData\\Local\\Packages\\PythonSoftwareFoundation.Python.3.10_qbz5n2kfra8p0\\LocalCache\\local-packages\\Python310\\site-packages\\torch\\nn\\modules\\loss.py:96: UserWarning: Using a target size (torch.Size([100])) that is different to the input size (torch.Size([100, 1])). This will likely lead to incorrect results due to broadcasting. Please ensure they have the same size.\n",
      "  return F.l1_loss(input, target, reduction=self.reduction)\n"
     ]
    },
    {
     "ename": "RuntimeError",
     "evalue": "Boolean value of Tensor with more than one value is ambiguous",
     "output_type": "error",
     "traceback": [
      "\u001b[1;31m---------------------------------------------------------------------------\u001b[0m",
      "\u001b[1;31mRuntimeError\u001b[0m                              Traceback (most recent call last)",
      "Input \u001b[1;32mIn [12]\u001b[0m, in \u001b[0;36m<cell line: 7>\u001b[1;34m()\u001b[0m\n\u001b[0;32m     11\u001b[0m pred \u001b[38;5;241m=\u001b[39m net\u001b[38;5;241m.\u001b[39mforward(x)\n\u001b[0;32m     12\u001b[0m loss \u001b[38;5;241m=\u001b[39m loss \u001b[38;5;241m+\u001b[39m loss_fn(pred, y)\n\u001b[1;32m---> 13\u001b[0m \u001b[38;5;28;01mif\u001b[39;00m \u001b[43mpred\u001b[49m\u001b[43m \u001b[49m\u001b[38;5;241;43m>\u001b[39;49m\u001b[43m \u001b[49m\u001b[43my\u001b[49m:\n\u001b[0;32m     14\u001b[0m     gr_loss \u001b[38;5;241m+\u001b[39m\u001b[38;5;241m=\u001b[39m \u001b[38;5;241m1\u001b[39m\n\u001b[0;32m     15\u001b[0m \u001b[38;5;28;01melif\u001b[39;00m output \u001b[38;5;241m<\u001b[39m target:\n",
      "\u001b[1;31mRuntimeError\u001b[0m: Boolean value of Tensor with more than one value is ambiguous"
     ]
    }
   ],
   "source": [
    "# Это наверное уже не надо, раз есть график выше, но по сути тут должно на валидационной выборке запускаться\n",
    "loss_norm=0\n",
    "loss=0\n",
    "gr_loss = 0\n",
    "ls_loss = 0\n",
    "\n",
    "with torch.no_grad():\n",
    "    for x, y in train_dl:\n",
    "        x = x.to(device)\n",
    "        y = y.to(device)\n",
    "        pred = net.forward(x)\n",
    "        loss = loss + loss_fn(pred, y)\n",
    "        if pred > y:\n",
    "            gr_loss += 1\n",
    "        elif output < target:\n",
    "            ls_loss += 1\n",
    "\n",
    "print(loss/len(x_test))\n",
    "print(len(x_test))\n",
    "print(gr_loss*100/len(x_test))\n",
    "print(ls_loss*100/len(x_test))"
   ]
  },
  {
   "cell_type": "code",
   "execution_count": 13,
   "id": "08b16deb",
   "metadata": {},
   "outputs": [],
   "source": [
    "# Сохраняем модель\n",
    "torch.onnx.export(net.to(torch.float32),               \n",
    "                  torch.randn(n_input).to(torch.float32).to(device),                         \n",
    "                  \"Qlab.onnx\",\n",
    "                  input_names = ['input_1'])"
   ]
  },
  {
   "cell_type": "code",
   "execution_count": null,
   "id": "89d9adc0",
   "metadata": {},
   "outputs": [],
   "source": []
  }
 ],
 "metadata": {
  "kernelspec": {
   "display_name": "Python 3 (ipykernel)",
   "language": "python",
   "name": "python3"
  },
  "language_info": {
   "codemirror_mode": {
    "name": "ipython",
    "version": 3
   },
   "file_extension": ".py",
   "mimetype": "text/x-python",
   "name": "python",
   "nbconvert_exporter": "python",
   "pygments_lexer": "ipython3",
   "version": "3.10.5"
  }
 },
 "nbformat": 4,
 "nbformat_minor": 5
}
